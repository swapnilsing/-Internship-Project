{
 "cells": [
  {
   "cell_type": "code",
   "execution_count": 5,
   "id": "0e264b2c-9d36-4423-abe1-3fc746b5decb",
   "metadata": {},
   "outputs": [
    {
     "ename": "NameError",
     "evalue": "name 'style' is not defined",
     "output_type": "error",
     "traceback": [
      "\u001b[1;31m---------------------------------------------------------------------------\u001b[0m",
      "\u001b[1;31mNameError\u001b[0m                                 Traceback (most recent call last)",
      "Cell \u001b[1;32mIn[5], line 1\u001b[0m\n\u001b[1;32m----> 1\u001b[0m \u001b[38;5;28;01mif\u001b[39;00m \u001b[38;5;124m'\u001b[39m\u001b[38;5;124mseaborn-whitegrid\u001b[39m\u001b[38;5;124m'\u001b[39m \u001b[38;5;129;01min\u001b[39;00m style\u001b[38;5;241m.\u001b[39mavailable:\n\u001b[0;32m      2\u001b[0m     plt\u001b[38;5;241m.\u001b[39mstyle\u001b[38;5;241m.\u001b[39muse(\u001b[38;5;124m'\u001b[39m\u001b[38;5;124mseaborn-whitegrid\u001b[39m\u001b[38;5;124m'\u001b[39m)\n\u001b[0;32m      3\u001b[0m \u001b[38;5;28;01melse\u001b[39;00m:\n",
      "\u001b[1;31mNameError\u001b[0m: name 'style' is not defined"
     ]
    }
   ],
   "source": [
    "# basic imports\n",
    "import os\n",
    "import json\n",
    "from datetime import datetime\n",
    "import pandas as pd\n",
    "import numpy as np\n",
    "import matplotlib.pyplot as plt\n",
    "import seaborn as sns\n",
    "import joblib\n",
    "\n",
    "# sklearn\n",
    "from sklearn.pipeline import Pipeline\n",
    "from sklearn.compose import ColumnTransformer\n",
    "from sklearn.preprocessing import StandardScaler, OneHotEncoder\n",
    "from sklearn.impute import SimpleImputer\n",
    "from sklearn.model_selection import train_test_split, TimeSeriesSplit, RandomizedSearchCV\n",
    "from sklearn.linear_model import LinearRegression\n",
    "from sklearn.ensemble import RandomForestRegressor\n",
    "from sklearn.metrics import mean_absolute_error, mean_squared_error, r2_score\n",
    "\n",
    "plt.style.use(\"seaborn-whitegrid\")\n",
    "pd.set_option('display.max_columns', 200)\n"
   ]
  },
  {
   "cell_type": "code",
   "execution_count": null,
   "id": "c1458b04-2be7-499d-9448-6e26d2374b41",
   "metadata": {},
   "outputs": [],
   "source": [
    "ROOT = os.getcwd()\n",
    "RAW = os.path.join(ROOT, \"data\", \"raw\")\n",
    "PROC = os.path.join(ROOT, \"data\", \"processed\")\n",
    "os.makedirs(RAW, exist_ok=True)\n",
    "os.makedirs(PROC, exist_ok=True)\n",
    "\n"
   ]
  },
  {
   "cell_type": "code",
   "execution_count": null,
   "id": "178212d5-c33b-4a92-90a3-c3d7e0972327",
   "metadata": {},
   "outputs": [],
   "source": [
    "\n",
    "fn = os.path.join(RAW, \"aqi.csv\")\n",
    "assert os.path.exists(fn), f\"File not found: {fn} - put your aqi.csv in data/raw/\"\n",
    "\n",
    "df = pd.read_csv(fn)\n",
    "print(\"shape:\", df.shape)\n",
    "df.head(10)\n"
   ]
  },
  {
   "cell_type": "code",
   "execution_count": null,
   "id": "3a93cb19-8d01-47d5-a7b9-808fcadec2da",
   "metadata": {},
   "outputs": [],
   "source": [
    "\n",
    "df.columns = [c.strip().lower().replace(' ', '_').replace('.', '_') for c in df.columns]\n",
    "print(\"Columns:\", df.columns.tolist())\n"
   ]
  },
  {
   "cell_type": "code",
   "execution_count": null,
   "id": "4d342c21-459a-48db-8535-6e95f0fc2496",
   "metadata": {},
   "outputs": [],
   "source": [
    "\n",
    "df['date'] = pd.to_datetime(df['date'],format='%d-%m-%Y', errors='coerce')\n",
    "\n",
    "\n",
    "print(\"Missing dates:\", df['date'].isna().sum())\n",
    "\n",
    "\n",
    "df = df.dropna(subset=['date', 'aqi_value']).copy()\n",
    "df = df.sort_values('date').reset_index(drop=True)\n",
    "\n",
    "\n",
    "df['aqi_value'] = pd.to_numeric(df['aqi_value'], errors='coerce')\n",
    "df['number_of_monitoring_stations'] = pd.to_numeric(df['number_of_monitoring_stations'], errors='coerce')\n",
    "\n",
    "print(df.info())\n"
   ]
  },
  {
   "cell_type": "code",
   "execution_count": null,
   "id": "319b94c0-39a0-4328-8475-e58787dd7ec4",
   "metadata": {},
   "outputs": [],
   "source": [
    "df = df.set_index('date')\n",
    "df_hourly = df[['number_of_monitoring_stations', 'aqi_value']].resample('h').mean()\n",
    "\n",
    "print(\"Hourly rows:\", len(df_hourly))\n",
    "df_hourly = df_hourly.interpolate(method='time', limit=6).ffill().bfill()\n",
    "df_hourly.head()\n"
   ]
  },
  {
   "cell_type": "code",
   "execution_count": null,
   "id": "0defa081-bc09-4fc2-9e90-03ebfc098eeb",
   "metadata": {},
   "outputs": [],
   "source": []
  }
 ],
 "metadata": {
  "kernelspec": {
   "display_name": "Python [conda env:base] *",
   "language": "python",
   "name": "conda-base-py"
  },
  "language_info": {
   "codemirror_mode": {
    "name": "ipython",
    "version": 3
   },
   "file_extension": ".py",
   "mimetype": "text/x-python",
   "name": "python",
   "nbconvert_exporter": "python",
   "pygments_lexer": "ipython3",
   "version": "3.13.5"
  }
 },
 "nbformat": 4,
 "nbformat_minor": 5
}
